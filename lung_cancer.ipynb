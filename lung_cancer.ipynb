{
  "nbformat": 4,
  "nbformat_minor": 0,
  "metadata": {
    "colab": {
      "provenance": [],
      "gpuType": "T4"
    },
    "kernelspec": {
      "name": "python3",
      "display_name": "Python 3"
    },
    "language_info": {
      "name": "python"
    },
    "accelerator": "GPU"
  },
  "cells": [
    {
      "cell_type": "code",
      "execution_count": 240,
      "metadata": {
        "id": "PayGOT7FQw8h"
      },
      "outputs": [],
      "source": [
        "# Importing libraries\n",
        "import os\n",
        "import numpy as np\n",
        "from google.colab import drive\n",
        "import pandas as pd\n",
        "import tensorflow as tf\n",
        "from tensorflow.keras import utils\n",
        "from tensorflow.keras.preprocessing import image\n",
        "from sklearn.model_selection import train_test_split\n",
        "from sklearn.preprocessing import LabelEncoder\n",
        "from xgboost import XGBClassifier\n",
        "from sklearn.metrics import accuracy_score\n",
        "from tensorflow.keras.models import Sequential\n",
        "from tensorflow.keras.layers import Conv2D, MaxPooling2D, Flatten, Dense, Dropout ,BatchNormalization\n",
        "from tensorflow.keras.applications.mobilenet_v2 import preprocess_input"
      ]
    },
    {
      "cell_type": "code",
      "source": [
        "# retrieving dataset from Google Drive\n",
        "drive.mount('/content/drive')\n",
        "train_path = '/content/drive/My Drive/Datasets/Data/train'\n",
        "test_path = '/content/drive/My Drive/Datasets/Data/test'\n",
        "val_path = '/content/drive/My Drive/Datasets/Data/valid'"
      ],
      "metadata": {
        "colab": {
          "base_uri": "https://localhost:8080/"
        },
        "id": "fa-RLAOORHqk",
        "outputId": "1c05ac3b-c5ad-4c6d-e526-b51edceff9e4"
      },
      "execution_count": 241,
      "outputs": [
        {
          "output_type": "stream",
          "name": "stdout",
          "text": [
            "Drive already mounted at /content/drive; to attempt to forcibly remount, call drive.mount(\"/content/drive\", force_remount=True).\n"
          ]
        }
      ]
    },
    {
      "cell_type": "code",
      "source": [
        "#no. of classes\n",
        "classes = os.listdir(train_path)\n",
        "classes"
      ],
      "metadata": {
        "colab": {
          "base_uri": "https://localhost:8080/"
        },
        "id": "A-Z3_pvyYF-k",
        "outputId": "ae504136-ea06-4b21-ecaa-0eaf002270dc"
      },
      "execution_count": 242,
      "outputs": [
        {
          "output_type": "execute_result",
          "data": {
            "text/plain": [
              "['normal',\n",
              " 'adenocarcinoma_left.lower.lobe_T2_N0_M0_Ib',\n",
              " 'large.cell.carcinoma_left.hilum_T2_N2_M0_IIIa',\n",
              " 'squamous.cell.carcinoma_left.hilum_T1_N2_M0_IIIa']"
            ]
          },
          "metadata": {},
          "execution_count": 242
        }
      ]
    },
    {
      "cell_type": "code",
      "source": [
        "print(\"Train Data:\")\n",
        "for c in classes:\n",
        "    print(c, len(os.listdir(train_path+'/'+c)))"
      ],
      "metadata": {
        "colab": {
          "base_uri": "https://localhost:8080/"
        },
        "id": "BQDovMZVYF5N",
        "outputId": "940f832b-ccd3-49f6-c0e3-f9e852c619b8"
      },
      "execution_count": 243,
      "outputs": [
        {
          "output_type": "stream",
          "name": "stdout",
          "text": [
            "Train Data:\n",
            "normal 148\n",
            "adenocarcinoma_left.lower.lobe_T2_N0_M0_Ib 195\n",
            "large.cell.carcinoma_left.hilum_T2_N2_M0_IIIa 115\n",
            "squamous.cell.carcinoma_left.hilum_T1_N2_M0_IIIa 155\n"
          ]
        }
      ]
    },
    {
      "cell_type": "code",
      "source": [
        "print(\"Validation Data:\")\n",
        "for c in classes:\n",
        "    print(c, len(os.listdir(train_path+'/'+c)))"
      ],
      "metadata": {
        "colab": {
          "base_uri": "https://localhost:8080/"
        },
        "id": "1tDQ8lM0Y3QJ",
        "outputId": "ee040a0d-3e0e-4558-d5e4-795593f3ef97"
      },
      "execution_count": 244,
      "outputs": [
        {
          "output_type": "stream",
          "name": "stdout",
          "text": [
            "Validation Data:\n",
            "normal 148\n",
            "adenocarcinoma_left.lower.lobe_T2_N0_M0_Ib 195\n",
            "large.cell.carcinoma_left.hilum_T2_N2_M0_IIIa 115\n",
            "squamous.cell.carcinoma_left.hilum_T1_N2_M0_IIIa 155\n"
          ]
        }
      ]
    },
    {
      "cell_type": "code",
      "source": [
        "#checking image size -1\n",
        "img = utils.load_img(\"/content/drive/My Drive/Datasets/Data/train/adenocarcinoma_left.lower.lobe_T2_N0_M0_Ib/ad4.png\",target_size=(150,150))\n",
        "img = np.array(img)\n",
        "img.shape\n"
      ],
      "metadata": {
        "colab": {
          "base_uri": "https://localhost:8080/"
        },
        "id": "Y0Ncy6D2YFsh",
        "outputId": "b4dd1677-2481-4cfb-c872-9ac4354e5380"
      },
      "execution_count": 245,
      "outputs": [
        {
          "output_type": "execute_result",
          "data": {
            "text/plain": [
              "(150, 150, 3)"
            ]
          },
          "metadata": {},
          "execution_count": 245
        }
      ]
    },
    {
      "cell_type": "code",
      "source": [
        "#checking image size -2\n",
        "img = utils.load_img(\"/content/drive/My Drive/Datasets/Data/train/adenocarcinoma_left.lower.lobe_T2_N0_M0_Ib/ad10.png\")\n",
        "img = np.array(img)\n",
        "img.shape"
      ],
      "metadata": {
        "colab": {
          "base_uri": "https://localhost:8080/"
        },
        "id": "TRcVLFUXaeoh",
        "outputId": "211c234e-2ba8-4e7a-dc11-c459a08b279a"
      },
      "execution_count": 246,
      "outputs": [
        {
          "output_type": "execute_result",
          "data": {
            "text/plain": [
              "(874, 1200, 3)"
            ]
          },
          "metadata": {},
          "execution_count": 246
        }
      ]
    },
    {
      "cell_type": "code",
      "source": [
        "# Load and preprocess the data as images have different sizes\n",
        "def load_and_preprocess_data(data_path):\n",
        "    data = []\n",
        "    labels = []\n",
        "    for category in os.listdir(data_path):\n",
        "        category_path = os.path.join(data_path, category)\n",
        "        for img_file in os.listdir(category_path):\n",
        "            img_path = os.path.join(category_path, img_file)\n",
        "            img = image.load_img(img_path, target_size=(150, 150))\n",
        "            img_array = image.img_to_array(img)\n",
        "            img_array = preprocess_input(img_array)\n",
        "            data.append(img_array)\n",
        "            labels.append(category)\n",
        "    return np.array(data), labels"
      ],
      "metadata": {
        "id": "wWIfx8QyRHjf"
      },
      "execution_count": 247,
      "outputs": []
    },
    {
      "cell_type": "code",
      "source": [
        "# Load and preprocess training data\n",
        "X_train, y_train = load_and_preprocess_data(train_path)\n",
        "\n",
        "# Load and preprocess validation data\n",
        "X_val, y_val = load_and_preprocess_data(val_path)\n",
        "\n",
        "# Load and preprocess test data\n",
        "X_test, y_test = load_and_preprocess_data(test_path)"
      ],
      "metadata": {
        "id": "gTI1IYhzRHe1"
      },
      "execution_count": 248,
      "outputs": []
    },
    {
      "cell_type": "code",
      "source": [
        "X_train.shape"
      ],
      "metadata": {
        "colab": {
          "base_uri": "https://localhost:8080/"
        },
        "id": "ctJPk2wca3QD",
        "outputId": "bfb31211-2e92-47ec-a0ab-f6fb1ec12368"
      },
      "execution_count": 249,
      "outputs": [
        {
          "output_type": "execute_result",
          "data": {
            "text/plain": [
              "(613, 150, 150, 3)"
            ]
          },
          "metadata": {},
          "execution_count": 249
        }
      ]
    },
    {
      "cell_type": "code",
      "source": [
        "#labels for train and val data\n",
        "category2label = {'normal':0,'adenocarcinoma_left.lower.lobe_T2_N0_M0_Ib':1,\n",
        " 'large.cell.carcinoma_left.hilum_T2_N2_M0_IIIa':2,\n",
        " 'squamous.cell.carcinoma_left.hilum_T1_N2_M0_IIIa': 3}\n",
        "label2category = {0:'normal',1:'adenocarcinoma_left.lower.lobe_T2_N0_M0_Ib',\n",
        " 2:'large.cell.carcinoma_left.hilum_T2_N2_M0_IIIa',\n",
        " 3:'squamous.cell.carcinoma_left.hilum_T1_N2_M0_IIIa'}"
      ],
      "metadata": {
        "id": "Ff57EckIdr6B"
      },
      "execution_count": 250,
      "outputs": []
    },
    {
      "cell_type": "code",
      "source": [
        "#label_encoding train data\n",
        "y_train_encoded = np.array([category2label[label] for label in y_train])"
      ],
      "metadata": {
        "id": "W4gyrWpNddOU"
      },
      "execution_count": 251,
      "outputs": []
    },
    {
      "cell_type": "code",
      "source": [
        "#label_encoding val data\n",
        "y_val_encoded = np.array([category2label[label] for label in y_val])"
      ],
      "metadata": {
        "id": "RTk0gH1Iei1H"
      },
      "execution_count": 252,
      "outputs": []
    },
    {
      "cell_type": "code",
      "source": [
        "#labels for test data(as test data have different labels than train data)\n",
        "category2label1 = {'normal':0,'adenocarcinoma':1,\n",
        " 'large.cell.carcinoma':2,\n",
        " 'squamous.cell.carcinoma': 3}\n",
        "label2category1 = {0:'normal',1:'adenocarcinoma',\n",
        " 2:'large.cell.carcinoma',\n",
        " 3:'squamous.cell.carcinoma'}"
      ],
      "metadata": {
        "id": "UsB7HuBiexyS"
      },
      "execution_count": 253,
      "outputs": []
    },
    {
      "cell_type": "code",
      "source": [
        "#label_encoding test data\n",
        "y_test_encoded = np.array([category2label1[label] for label in y_test])"
      ],
      "metadata": {
        "id": "YNMry65FffJ_"
      },
      "execution_count": 254,
      "outputs": []
    },
    {
      "cell_type": "code",
      "source": [
        "#encoded test data\n",
        "y_test_encoded"
      ],
      "metadata": {
        "colab": {
          "base_uri": "https://localhost:8080/"
        },
        "id": "gaunbnMXbCqB",
        "outputId": "1a9003d5-fa91-4a71-ab34-a8e8fc2e58f2"
      },
      "execution_count": 255,
      "outputs": [
        {
          "output_type": "execute_result",
          "data": {
            "text/plain": [
              "array([3, 3, 3, 3, 3, 3, 3, 3, 3, 3, 3, 3, 3, 3, 3, 3, 3, 3, 3, 3, 3, 3,\n",
              "       3, 3, 3, 3, 3, 3, 3, 3, 3, 3, 3, 3, 3, 3, 3, 3, 3, 3, 3, 3, 3, 3,\n",
              "       3, 3, 3, 3, 3, 3, 3, 3, 3, 3, 3, 3, 3, 3, 3, 3, 3, 3, 3, 3, 3, 3,\n",
              "       3, 3, 3, 3, 3, 3, 3, 3, 3, 3, 3, 3, 3, 3, 3, 3, 3, 3, 3, 3, 3, 3,\n",
              "       3, 3, 0, 0, 0, 0, 0, 0, 0, 0, 0, 0, 0, 0, 0, 0, 0, 0, 0, 0, 0, 0,\n",
              "       0, 0, 0, 0, 0, 0, 0, 0, 0, 0, 0, 0, 0, 0, 0, 0, 0, 0, 0, 0, 0, 0,\n",
              "       0, 0, 0, 0, 0, 0, 0, 0, 0, 0, 0, 0, 2, 2, 2, 2, 2, 2, 2, 2, 2, 2,\n",
              "       2, 2, 2, 2, 2, 2, 2, 2, 2, 2, 2, 2, 2, 2, 2, 2, 2, 2, 2, 2, 2, 2,\n",
              "       2, 2, 2, 2, 2, 2, 2, 2, 2, 2, 2, 2, 2, 2, 2, 2, 2, 2, 2, 1, 1, 1,\n",
              "       1, 1, 1, 1, 1, 1, 1, 1, 1, 1, 1, 1, 1, 1, 1, 1, 1, 1, 1, 1, 1, 1,\n",
              "       1, 1, 1, 1, 1, 1, 1, 1, 1, 1, 1, 1, 1, 1, 1, 1, 1, 1, 1, 1, 1, 1,\n",
              "       1, 1, 1, 1, 1, 1, 1, 1, 1, 1, 1, 1, 1, 1, 1, 1, 1, 1, 1, 1, 1, 1,\n",
              "       1, 1, 1, 1, 1, 1, 1, 1, 1, 1, 1, 1, 1, 1, 1, 1, 1, 1, 1, 1, 1, 1,\n",
              "       1, 1, 1, 1, 1, 1, 1, 1, 1, 1, 1, 1, 1, 1, 1, 1, 1, 1, 1, 1, 1, 1,\n",
              "       1, 1, 1, 1, 1, 1, 1])"
            ]
          },
          "metadata": {},
          "execution_count": 255
        }
      ]
    },
    {
      "cell_type": "code",
      "source": [
        "#using cnn to extract features\n",
        "model =Sequential()\n",
        "model.add(Conv2D(32, (3, 3), activation='relu', input_shape=(150, 150, 3)))\n",
        "model.add(MaxPooling2D((2, 2)))\n",
        "model.add(Conv2D(64, (3, 3), activation='relu'))\n",
        "model.add(MaxPooling2D((2, 2)))\n",
        "model.add(Conv2D(128, (3, 3), activation='relu'))\n",
        "model.add(MaxPooling2D((2, 2)))\n",
        "model.add(Conv2D(256, (3, 3), activation='relu'))\n",
        "model.add(MaxPooling2D((2, 2)))\n",
        "model.add(Conv2D(512, (3, 3), activation='relu'))\n",
        "model.add(Conv2D(1024, (3, 3), activation='relu'))\n",
        "model.add(Dropout(0.2))\n",
        "model.add(Flatten())\n"
      ],
      "metadata": {
        "id": "N84OnnzNSllM"
      },
      "execution_count": 256,
      "outputs": []
    },
    {
      "cell_type": "code",
      "source": [
        "#cnn architecture\n",
        "model.summary()"
      ],
      "metadata": {
        "colab": {
          "base_uri": "https://localhost:8080/"
        },
        "id": "71JU1WzhSlWT",
        "outputId": "11e6c4f9-08bb-454e-8153-3062eb8e245c"
      },
      "execution_count": 257,
      "outputs": [
        {
          "output_type": "stream",
          "name": "stdout",
          "text": [
            "Model: \"sequential_60\"\n",
            "_________________________________________________________________\n",
            " Layer (type)                Output Shape              Param #   \n",
            "=================================================================\n",
            " conv2d_360 (Conv2D)         (None, 148, 148, 32)      896       \n",
            "                                                                 \n",
            " max_pooling2d_145 (MaxPool  (None, 74, 74, 32)        0         \n",
            " ing2D)                                                          \n",
            "                                                                 \n",
            " conv2d_361 (Conv2D)         (None, 72, 72, 64)        18496     \n",
            "                                                                 \n",
            " max_pooling2d_146 (MaxPool  (None, 36, 36, 64)        0         \n",
            " ing2D)                                                          \n",
            "                                                                 \n",
            " conv2d_362 (Conv2D)         (None, 34, 34, 128)       73856     \n",
            "                                                                 \n",
            " max_pooling2d_147 (MaxPool  (None, 17, 17, 128)       0         \n",
            " ing2D)                                                          \n",
            "                                                                 \n",
            " conv2d_363 (Conv2D)         (None, 15, 15, 256)       295168    \n",
            "                                                                 \n",
            " max_pooling2d_148 (MaxPool  (None, 7, 7, 256)         0         \n",
            " ing2D)                                                          \n",
            "                                                                 \n",
            " conv2d_364 (Conv2D)         (None, 5, 5, 512)         1180160   \n",
            "                                                                 \n",
            " conv2d_365 (Conv2D)         (None, 3, 3, 1024)        4719616   \n",
            "                                                                 \n",
            " dropout_89 (Dropout)        (None, 3, 3, 1024)        0         \n",
            "                                                                 \n",
            " flatten_52 (Flatten)        (None, 9216)              0         \n",
            "                                                                 \n",
            "=================================================================\n",
            "Total params: 6288192 (23.99 MB)\n",
            "Trainable params: 6288192 (23.99 MB)\n",
            "Non-trainable params: 0 (0.00 Byte)\n",
            "_________________________________________________________________\n"
          ]
        }
      ]
    },
    {
      "cell_type": "code",
      "source": [
        "#storing these features in variables\n",
        "X_train_features = model.predict(X_train)\n",
        "X_val_features = model.predict(X_val)\n",
        "X_test_features = model.predict(X_test)"
      ],
      "metadata": {
        "colab": {
          "base_uri": "https://localhost:8080/"
        },
        "id": "nJVrKMk4SlOW",
        "outputId": "6fa280d0-2dff-43a5-b971-5dc20215eadb"
      },
      "execution_count": 258,
      "outputs": [
        {
          "output_type": "stream",
          "name": "stdout",
          "text": [
            "20/20 [==============================] - 0s 10ms/step\n",
            "3/3 [==============================] - 0s 8ms/step\n",
            "10/10 [==============================] - 0s 8ms/step\n"
          ]
        }
      ]
    },
    {
      "cell_type": "code",
      "source": [
        "# Flattening the features to be given to xgboost as input\n",
        "X_train_flatten = X_train_features.reshape(X_train_features.shape[0], -1)\n",
        "X_val_flatten = X_val_features.reshape(X_val_features.shape[0], -1)\n",
        "X_test_flatten = X_test_features.reshape(X_test_features.shape[0], -1)"
      ],
      "metadata": {
        "id": "Lhr72phNS6R6"
      },
      "execution_count": 259,
      "outputs": []
    },
    {
      "cell_type": "code",
      "source": [
        "# Training XGBoost model\n",
        "xgb_model = XGBClassifier()\n",
        "xgb_model.fit(X_train_flatten, y_train_encoded)"
      ],
      "metadata": {
        "colab": {
          "base_uri": "https://localhost:8080/",
          "height": 248
        },
        "id": "pHctcPfiTWxE",
        "outputId": "4ed23c32-d2d9-43d1-d8c7-b3a93f4f0a19"
      },
      "execution_count": 260,
      "outputs": [
        {
          "output_type": "execute_result",
          "data": {
            "text/plain": [
              "XGBClassifier(base_score=None, booster=None, callbacks=None,\n",
              "              colsample_bylevel=None, colsample_bynode=None,\n",
              "              colsample_bytree=None, device=None, early_stopping_rounds=None,\n",
              "              enable_categorical=False, eval_metric=None, feature_types=None,\n",
              "              gamma=None, grow_policy=None, importance_type=None,\n",
              "              interaction_constraints=None, learning_rate=None, max_bin=None,\n",
              "              max_cat_threshold=None, max_cat_to_onehot=None,\n",
              "              max_delta_step=None, max_depth=None, max_leaves=None,\n",
              "              min_child_weight=None, missing=nan, monotone_constraints=None,\n",
              "              multi_strategy=None, n_estimators=None, n_jobs=None,\n",
              "              num_parallel_tree=None, objective='multi:softprob', ...)"
            ],
            "text/html": [
              "<style>#sk-container-id-18 {color: black;background-color: white;}#sk-container-id-18 pre{padding: 0;}#sk-container-id-18 div.sk-toggleable {background-color: white;}#sk-container-id-18 label.sk-toggleable__label {cursor: pointer;display: block;width: 100%;margin-bottom: 0;padding: 0.3em;box-sizing: border-box;text-align: center;}#sk-container-id-18 label.sk-toggleable__label-arrow:before {content: \"▸\";float: left;margin-right: 0.25em;color: #696969;}#sk-container-id-18 label.sk-toggleable__label-arrow:hover:before {color: black;}#sk-container-id-18 div.sk-estimator:hover label.sk-toggleable__label-arrow:before {color: black;}#sk-container-id-18 div.sk-toggleable__content {max-height: 0;max-width: 0;overflow: hidden;text-align: left;background-color: #f0f8ff;}#sk-container-id-18 div.sk-toggleable__content pre {margin: 0.2em;color: black;border-radius: 0.25em;background-color: #f0f8ff;}#sk-container-id-18 input.sk-toggleable__control:checked~div.sk-toggleable__content {max-height: 200px;max-width: 100%;overflow: auto;}#sk-container-id-18 input.sk-toggleable__control:checked~label.sk-toggleable__label-arrow:before {content: \"▾\";}#sk-container-id-18 div.sk-estimator input.sk-toggleable__control:checked~label.sk-toggleable__label {background-color: #d4ebff;}#sk-container-id-18 div.sk-label input.sk-toggleable__control:checked~label.sk-toggleable__label {background-color: #d4ebff;}#sk-container-id-18 input.sk-hidden--visually {border: 0;clip: rect(1px 1px 1px 1px);clip: rect(1px, 1px, 1px, 1px);height: 1px;margin: -1px;overflow: hidden;padding: 0;position: absolute;width: 1px;}#sk-container-id-18 div.sk-estimator {font-family: monospace;background-color: #f0f8ff;border: 1px dotted black;border-radius: 0.25em;box-sizing: border-box;margin-bottom: 0.5em;}#sk-container-id-18 div.sk-estimator:hover {background-color: #d4ebff;}#sk-container-id-18 div.sk-parallel-item::after {content: \"\";width: 100%;border-bottom: 1px solid gray;flex-grow: 1;}#sk-container-id-18 div.sk-label:hover label.sk-toggleable__label {background-color: #d4ebff;}#sk-container-id-18 div.sk-serial::before {content: \"\";position: absolute;border-left: 1px solid gray;box-sizing: border-box;top: 0;bottom: 0;left: 50%;z-index: 0;}#sk-container-id-18 div.sk-serial {display: flex;flex-direction: column;align-items: center;background-color: white;padding-right: 0.2em;padding-left: 0.2em;position: relative;}#sk-container-id-18 div.sk-item {position: relative;z-index: 1;}#sk-container-id-18 div.sk-parallel {display: flex;align-items: stretch;justify-content: center;background-color: white;position: relative;}#sk-container-id-18 div.sk-item::before, #sk-container-id-18 div.sk-parallel-item::before {content: \"\";position: absolute;border-left: 1px solid gray;box-sizing: border-box;top: 0;bottom: 0;left: 50%;z-index: -1;}#sk-container-id-18 div.sk-parallel-item {display: flex;flex-direction: column;z-index: 1;position: relative;background-color: white;}#sk-container-id-18 div.sk-parallel-item:first-child::after {align-self: flex-end;width: 50%;}#sk-container-id-18 div.sk-parallel-item:last-child::after {align-self: flex-start;width: 50%;}#sk-container-id-18 div.sk-parallel-item:only-child::after {width: 0;}#sk-container-id-18 div.sk-dashed-wrapped {border: 1px dashed gray;margin: 0 0.4em 0.5em 0.4em;box-sizing: border-box;padding-bottom: 0.4em;background-color: white;}#sk-container-id-18 div.sk-label label {font-family: monospace;font-weight: bold;display: inline-block;line-height: 1.2em;}#sk-container-id-18 div.sk-label-container {text-align: center;}#sk-container-id-18 div.sk-container {/* jupyter's `normalize.less` sets `[hidden] { display: none; }` but bootstrap.min.css set `[hidden] { display: none !important; }` so we also need the `!important` here to be able to override the default hidden behavior on the sphinx rendered scikit-learn.org. See: https://github.com/scikit-learn/scikit-learn/issues/21755 */display: inline-block !important;position: relative;}#sk-container-id-18 div.sk-text-repr-fallback {display: none;}</style><div id=\"sk-container-id-18\" class=\"sk-top-container\"><div class=\"sk-text-repr-fallback\"><pre>XGBClassifier(base_score=None, booster=None, callbacks=None,\n",
              "              colsample_bylevel=None, colsample_bynode=None,\n",
              "              colsample_bytree=None, device=None, early_stopping_rounds=None,\n",
              "              enable_categorical=False, eval_metric=None, feature_types=None,\n",
              "              gamma=None, grow_policy=None, importance_type=None,\n",
              "              interaction_constraints=None, learning_rate=None, max_bin=None,\n",
              "              max_cat_threshold=None, max_cat_to_onehot=None,\n",
              "              max_delta_step=None, max_depth=None, max_leaves=None,\n",
              "              min_child_weight=None, missing=nan, monotone_constraints=None,\n",
              "              multi_strategy=None, n_estimators=None, n_jobs=None,\n",
              "              num_parallel_tree=None, objective=&#x27;multi:softprob&#x27;, ...)</pre><b>In a Jupyter environment, please rerun this cell to show the HTML representation or trust the notebook. <br />On GitHub, the HTML representation is unable to render, please try loading this page with nbviewer.org.</b></div><div class=\"sk-container\" hidden><div class=\"sk-item\"><div class=\"sk-estimator sk-toggleable\"><input class=\"sk-toggleable__control sk-hidden--visually\" id=\"sk-estimator-id-18\" type=\"checkbox\" checked><label for=\"sk-estimator-id-18\" class=\"sk-toggleable__label sk-toggleable__label-arrow\">XGBClassifier</label><div class=\"sk-toggleable__content\"><pre>XGBClassifier(base_score=None, booster=None, callbacks=None,\n",
              "              colsample_bylevel=None, colsample_bynode=None,\n",
              "              colsample_bytree=None, device=None, early_stopping_rounds=None,\n",
              "              enable_categorical=False, eval_metric=None, feature_types=None,\n",
              "              gamma=None, grow_policy=None, importance_type=None,\n",
              "              interaction_constraints=None, learning_rate=None, max_bin=None,\n",
              "              max_cat_threshold=None, max_cat_to_onehot=None,\n",
              "              max_delta_step=None, max_depth=None, max_leaves=None,\n",
              "              min_child_weight=None, missing=nan, monotone_constraints=None,\n",
              "              multi_strategy=None, n_estimators=None, n_jobs=None,\n",
              "              num_parallel_tree=None, objective=&#x27;multi:softprob&#x27;, ...)</pre></div></div></div></div></div>"
            ]
          },
          "metadata": {},
          "execution_count": 260
        }
      ]
    },
    {
      "cell_type": "code",
      "source": [
        "#Validation dataset\n",
        "val_predictions = xgb_model.predict(X_val_flatten)\n",
        "val_accuracy = accuracy_score(y_val_encoded, val_predictions)\n",
        "print(f\"Validation Accuracy: {val_accuracy}\")"
      ],
      "metadata": {
        "colab": {
          "base_uri": "https://localhost:8080/"
        },
        "id": "0w5x3w9kTWqz",
        "outputId": "84b79196-a990-40b8-ac31-bf918ca600de"
      },
      "execution_count": 261,
      "outputs": [
        {
          "output_type": "stream",
          "name": "stdout",
          "text": [
            "Validation Accuracy: 0.6666666666666666\n"
          ]
        }
      ]
    },
    {
      "cell_type": "code",
      "source": [
        "#Test dataset\n",
        "test_predictions = xgb_model.predict(X_test_flatten)\n",
        "test_accuracy = accuracy_score(y_test_encoded, test_predictions)\n",
        "print(f\"Test Accuracy: {test_accuracy}\")"
      ],
      "metadata": {
        "colab": {
          "base_uri": "https://localhost:8080/"
        },
        "id": "0J7kHXp4Ts4j",
        "outputId": "68bc88b0-e475-466a-f11d-cefc3668c152"
      },
      "execution_count": 262,
      "outputs": [
        {
          "output_type": "stream",
          "name": "stdout",
          "text": [
            "Test Accuracy: 0.6476190476190476\n"
          ]
        }
      ]
    }
  ]
}